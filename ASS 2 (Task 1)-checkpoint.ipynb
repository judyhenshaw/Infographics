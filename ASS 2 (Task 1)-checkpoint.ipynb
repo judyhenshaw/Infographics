{
 "cells": [
  {
   "cell_type": "code",
   "execution_count": 4,
   "metadata": {},
   "outputs": [],
   "source": [
    "import pandas as pd\n",
    "import numpy as np"
   ]
  },
  {
   "cell_type": "code",
   "execution_count": 5,
   "metadata": {},
   "outputs": [],
   "source": [
    "import matplotlib\n",
    "import matplotlib.pyplot as plt\n",
    "import seaborn as sns"
   ]
  },
  {
   "cell_type": "code",
   "execution_count": 6,
   "metadata": {},
   "outputs": [],
   "source": [
    "dataset=pd.read_excel(r'C:\\Users\\judyh\\Downloads\\excel files\\NORTH CENTRAL.xlsx')"
   ]
  },
  {
   "cell_type": "code",
   "execution_count": 7,
   "metadata": {},
   "outputs": [],
   "source": [
    "df=pd.DataFrame(dataset)"
   ]
  },
  {
   "cell_type": "code",
   "execution_count": 41,
   "metadata": {},
   "outputs": [
    {
     "data": {
      "text/html": [
       "<div>\n",
       "<style scoped>\n",
       "    .dataframe tbody tr th:only-of-type {\n",
       "        vertical-align: middle;\n",
       "    }\n",
       "\n",
       "    .dataframe tbody tr th {\n",
       "        vertical-align: top;\n",
       "    }\n",
       "\n",
       "    .dataframe thead th {\n",
       "        text-align: right;\n",
       "    }\n",
       "</style>\n",
       "<table border=\"1\" class=\"dataframe\">\n",
       "  <thead>\n",
       "    <tr style=\"text-align: right;\">\n",
       "      <th></th>\n",
       "      <th>STATE(NORTH-CENTRAL ZONE)</th>\n",
       "      <th>UNDEREMPLOYMENT</th>\n",
       "      <th>UNEMPLOYMENT</th>\n",
       "    </tr>\n",
       "  </thead>\n",
       "  <tbody>\n",
       "    <tr>\n",
       "      <th>0</th>\n",
       "      <td>PLATEAU</td>\n",
       "      <td>21.8</td>\n",
       "      <td>29.8</td>\n",
       "    </tr>\n",
       "    <tr>\n",
       "      <th>1</th>\n",
       "      <td>NASARAWA</td>\n",
       "      <td>24.3</td>\n",
       "      <td>27.4</td>\n",
       "    </tr>\n",
       "    <tr>\n",
       "      <th>2</th>\n",
       "      <td>FCT</td>\n",
       "      <td>16.0</td>\n",
       "      <td>24.4</td>\n",
       "    </tr>\n",
       "    <tr>\n",
       "      <th>3</th>\n",
       "      <td>KWARA</td>\n",
       "      <td>21.4</td>\n",
       "      <td>21.1</td>\n",
       "    </tr>\n",
       "    <tr>\n",
       "      <th>4</th>\n",
       "      <td>NIGER</td>\n",
       "      <td>26.9</td>\n",
       "      <td>20.9</td>\n",
       "    </tr>\n",
       "    <tr>\n",
       "      <th>5</th>\n",
       "      <td>BENUE</td>\n",
       "      <td>25.0</td>\n",
       "      <td>20.1</td>\n",
       "    </tr>\n",
       "    <tr>\n",
       "      <th>6</th>\n",
       "      <td>KOGI</td>\n",
       "      <td>24.8</td>\n",
       "      <td>19.7</td>\n",
       "    </tr>\n",
       "  </tbody>\n",
       "</table>\n",
       "</div>"
      ],
      "text/plain": [
       "  STATE(NORTH-CENTRAL ZONE)  UNDEREMPLOYMENT  UNEMPLOYMENT\n",
       "0                   PLATEAU             21.8          29.8\n",
       "1                  NASARAWA             24.3          27.4\n",
       "2                       FCT             16.0          24.4\n",
       "3                     KWARA             21.4          21.1\n",
       "4                     NIGER             26.9          20.9\n",
       "5                     BENUE             25.0          20.1\n",
       "6                      KOGI             24.8          19.7"
      ]
     },
     "execution_count": 41,
     "metadata": {},
     "output_type": "execute_result"
    }
   ],
   "source": [
    "df"
   ]
  },
  {
   "cell_type": "code",
   "execution_count": 54,
   "metadata": {},
   "outputs": [
    {
     "data": {
      "image/png": "[encoded data removed]",
      "text/plain": [
       "<Figure size 864x576 with 1 Axes>"
      ]
     },
     "metadata": {
      "needs_background": "light"
     },
     "output_type": "display_data"
    }
   ],
   "source": [
    "\n",
    "x = np.arange(7)\n",
    "width = 0.4\n",
    "fig, ax =plt.subplots(figsize=(12 , 8))\n",
    "plt.bar(x, df['UNDEREMPLOYMENT'], width, alpha=0.5, color='#EE3224')\n",
    "plt.bar(x+width, df['UNEMPLOYMENT'], width, alpha=0.5, color='#F78F1E')\n",
    "plt.ylabel('STATE(NORTH-CENTRAL ZONE)')\n",
    "plt.xticks(x+0.2, ['PLATEAU', 'NASARAWA', 'FCT', 'KWARA', 'NIGER', 'BENUE', 'KOGI'])\n",
    "ax.set_xticklabels(df['STATE(NORTH-CENTRAL ZONE)'])\n",
    "ax.set_title('LABOR FORCE STATISTICS FOR NORTH-CENTRAL ZONE Q3 2018')\n",
    "plt.xlim(min(x)-width, max(x)+width*4)\n",
    "plt.ylim([0, max(df['UNDEREMPLOYMENT'] + df['UNEMPLOYMENT'])])\n",
    "plt.legend(['UNDEREMPLOYMENT', 'UNEMPLOYMENT'], loc='upper right')\n",
    "plt.grid()\n",
    "plt.show()"
   ]
  },
  {
   "cell_type": "code",
   "execution_count": 28,
   "metadata": {},
   "outputs": [],
   "source": [
    "dataset1=pd.read_excel(r'C:\\Users\\judyh\\Downloads\\excel files\\NORTH EAST.xlsx')"
   ]
  },
  {
   "cell_type": "code",
   "execution_count": 29,
   "metadata": {},
   "outputs": [],
   "source": [
    "df1=pd.DataFrame(dataset1)"
   ]
  },
  {
   "cell_type": "code",
   "execution_count": 30,
   "metadata": {},
   "outputs": [
    {
     "data": {
      "text/html": [
       "<div>\n",
       "<style scoped>\n",
       "    .dataframe tbody tr th:only-of-type {\n",
       "        vertical-align: middle;\n",
       "    }\n",
       "\n",
       "    .dataframe tbody tr th {\n",
       "        vertical-align: top;\n",
       "    }\n",
       "\n",
       "    .dataframe thead th {\n",
       "        text-align: right;\n",
       "    }\n",
       "</style>\n",
       "<table border=\"1\" class=\"dataframe\">\n",
       "  <thead>\n",
       "    <tr style=\"text-align: right;\">\n",
       "      <th></th>\n",
       "      <th>STATE(NORTH-EAST ZONE)</th>\n",
       "      <th>UNDEREMPLOYMENT</th>\n",
       "      <th>UNEMPLOYMENT</th>\n",
       "    </tr>\n",
       "  </thead>\n",
       "  <tbody>\n",
       "    <tr>\n",
       "      <th>0</th>\n",
       "      <td>ADAMAWA</td>\n",
       "      <td>24.8</td>\n",
       "      <td>20.8</td>\n",
       "    </tr>\n",
       "    <tr>\n",
       "      <th>1</th>\n",
       "      <td>BAUCHI</td>\n",
       "      <td>23.6</td>\n",
       "      <td>23.5</td>\n",
       "    </tr>\n",
       "    <tr>\n",
       "      <th>2</th>\n",
       "      <td>BORNO</td>\n",
       "      <td>25.5</td>\n",
       "      <td>31.4</td>\n",
       "    </tr>\n",
       "    <tr>\n",
       "      <th>3</th>\n",
       "      <td>GOMBE</td>\n",
       "      <td>23.7</td>\n",
       "      <td>27.0</td>\n",
       "    </tr>\n",
       "    <tr>\n",
       "      <th>4</th>\n",
       "      <td>TARABA</td>\n",
       "      <td>9.0</td>\n",
       "      <td>19.0</td>\n",
       "    </tr>\n",
       "    <tr>\n",
       "      <th>5</th>\n",
       "      <td>YOBE</td>\n",
       "      <td>30.0</td>\n",
       "      <td>29.0</td>\n",
       "    </tr>\n",
       "  </tbody>\n",
       "</table>\n",
       "</div>"
      ],
      "text/plain": [
       "  STATE(NORTH-EAST ZONE)  UNDEREMPLOYMENT  UNEMPLOYMENT\n",
       "0                ADAMAWA             24.8          20.8\n",
       "1                 BAUCHI             23.6          23.5\n",
       "2                  BORNO             25.5          31.4\n",
       "3                  GOMBE             23.7          27.0\n",
       "4                 TARABA              9.0          19.0\n",
       "5                   YOBE             30.0          29.0"
      ]
     },
     "execution_count": 30,
     "metadata": {},
     "output_type": "execute_result"
    }
   ],
   "source": [
    "df1\n"
   ]
  },
  {
   "cell_type": "code",
   "execution_count": 55,
   "metadata": {},
   "outputs": [
    {
     "data": {
      "image/png": "[encoded data removed]",
      "text/plain": [
       "<Figure size 864x576 with 1 Axes>"
      ]
     },
     "metadata": {
      "needs_background": "light"
     },
     "output_type": "display_data"
    }
   ],
   "source": [
    "\n",
    "x = np.arange(6)\n",
    "width = 0.25\n",
    "fig, ax = plt.subplots(figsize=(12,8))\n",
    "plt.bar(x, df1['UNDEREMPLOYMENT'], width, alpha=0.5, color='#EE3224')\n",
    "plt.bar(x + width, df1['UNEMPLOYMENT'], width, alpha=0.5, color='#F78F1E')\n",
    "plt.ylabel('STATE(NORTH-EAST ZONE)')\n",
    "plt.xticks(x+0.125, ['ADAMAWA', 'BAUCHI', 'BORNO', 'GOMBE', 'TARABA', 'YOBE'])\n",
    "ax.set_xticklabels(df1['STATE(NORTH-EAST ZONE)'])\n",
    "ax.set_title('LABOR FORCE STATISTICS FOR NORTH EAST ZONE Q3 2018')\n",
    "plt.xlim(min(x)-width, max(x)+width*4)\n",
    "plt.ylim([0, max(df1['UNDEREMPLOYMENT'] + df1['UNEMPLOYMENT'])])\n",
    "plt.legend(['UNDEREMPLOYMENT', 'UNEMPLOYMENT'], loc='upper right')\n",
    "plt.grid()\n",
    "plt.show()"
   ]
  },
  {
   "cell_type": "code",
   "execution_count": 50,
   "metadata": {},
   "outputs": [],
   "source": [
    "dataset2=pd.read_excel(r'C:\\Users\\judyh\\Downloads\\excel files\\NORTH WEST.xlsx')"
   ]
  },
  {
   "cell_type": "code",
   "execution_count": 51,
   "metadata": {},
   "outputs": [],
   "source": [
    "df2=pd.DataFrame(dataset2)"
   ]
  },
  {
   "cell_type": "code",
   "execution_count": 52,
   "metadata": {},
   "outputs": [
    {
     "data": {
      "text/html": [
       "<div>\n",
       "<style scoped>\n",
       "    .dataframe tbody tr th:only-of-type {\n",
       "        vertical-align: middle;\n",
       "    }\n",
       "\n",
       "    .dataframe tbody tr th {\n",
       "        vertical-align: top;\n",
       "    }\n",
       "\n",
       "    .dataframe thead th {\n",
       "        text-align: right;\n",
       "    }\n",
       "</style>\n",
       "<table border=\"1\" class=\"dataframe\">\n",
       "  <thead>\n",
       "    <tr style=\"text-align: right;\">\n",
       "      <th></th>\n",
       "      <th>STATE(NORTH-WEST ZONE)</th>\n",
       "      <th>UNDEREMPLOYMENT</th>\n",
       "      <th>UNEMPLOYMENT</th>\n",
       "    </tr>\n",
       "  </thead>\n",
       "  <tbody>\n",
       "    <tr>\n",
       "      <th>0</th>\n",
       "      <td>ZAMFARA</td>\n",
       "      <td>18.0</td>\n",
       "      <td>23.0</td>\n",
       "    </tr>\n",
       "    <tr>\n",
       "      <th>1</th>\n",
       "      <td>SOKOTO</td>\n",
       "      <td>26.0</td>\n",
       "      <td>26.6</td>\n",
       "    </tr>\n",
       "    <tr>\n",
       "      <th>2</th>\n",
       "      <td>KADUNA</td>\n",
       "      <td>26.8</td>\n",
       "      <td>31.0</td>\n",
       "    </tr>\n",
       "    <tr>\n",
       "      <th>3</th>\n",
       "      <td>KEBBI</td>\n",
       "      <td>20.1</td>\n",
       "      <td>16.9</td>\n",
       "    </tr>\n",
       "    <tr>\n",
       "      <th>4</th>\n",
       "      <td>KASTINA</td>\n",
       "      <td>14.3</td>\n",
       "      <td>39.5</td>\n",
       "    </tr>\n",
       "    <tr>\n",
       "      <th>5</th>\n",
       "      <td>KANO</td>\n",
       "      <td>31.3</td>\n",
       "      <td>24.3</td>\n",
       "    </tr>\n",
       "    <tr>\n",
       "      <th>6</th>\n",
       "      <td>JIGAWA</td>\n",
       "      <td>26.5</td>\n",
       "      <td>38.1</td>\n",
       "    </tr>\n",
       "  </tbody>\n",
       "</table>\n",
       "</div>"
      ],
      "text/plain": [
       "  STATE(NORTH-WEST ZONE)  UNDEREMPLOYMENT  UNEMPLOYMENT\n",
       "0                ZAMFARA             18.0          23.0\n",
       "1                 SOKOTO             26.0          26.6\n",
       "2                 KADUNA             26.8          31.0\n",
       "3                  KEBBI             20.1          16.9\n",
       "4                KASTINA             14.3          39.5\n",
       "5                   KANO             31.3          24.3\n",
       "6                 JIGAWA             26.5          38.1"
      ]
     },
     "execution_count": 52,
     "metadata": {},
     "output_type": "execute_result"
    }
   ],
   "source": [
    "df2"
   ]
  },
  {
   "cell_type": "code",
   "execution_count": 56,
   "metadata": {},
   "outputs": [
    {
     "data": {
      "image/png": "[encoded data removed]",
      "text/plain": [
       "<Figure size 864x576 with 1 Axes>"
      ]
     },
     "metadata": {
      "needs_background": "light"
     },
     "output_type": "display_data"
    }
   ],
   "source": [
    "\n",
    "x =np.arange(7)\n",
    "width = 0.25\n",
    "fig, ax = plt.subplots(figsize=(12,8))\n",
    "plt.bar(x, df2['UNDEREMPLOYMENT'], width, alpha=0.5, color='#EE3224')\n",
    "plt.bar(x + width, df2['UNEMPLOYMENT'], width, alpha=0.5, color='#F78F1E')\n",
    "plt.ylabel('STATE(NORTH-WEST ZONE)')\n",
    "plt.xticks(x+0.125,['ZAMFARA', 'SOKOTO', 'KADUNA', 'KEBBI', 'KASTINA', 'KANO', 'JIGAWA'])\n",
    "ax.set_xticklabels(df2['STATE(NORTH-WEST ZONE)'])\n",
    "ax.set_title('LABOR FORCE STATISTICS FOR NORTH-WEST ZONE Q3 2018')\n",
    "plt.xlim(min(x)-width, max(x)+width*4)\n",
    "plt.ylim([0, max(df2['UNDEREMPLOYMENT'] + df2['UNEMPLOYMENT'])])\n",
    "plt.legend(['UNDEREMPLOYMENT', 'UNEMPLOYMENT'], loc='upper right')\n",
    "plt.grid()\n",
    "plt.show()"
   ]
  },
  {
   "cell_type": "code",
   "execution_count": 57,
   "metadata": {},
   "outputs": [],
   "source": [
    "dataset3=pd.read_excel(r'C:\\Users\\judyh\\Downloads\\excel files\\SOUTH SOUTH.xlsx')"
   ]
  },
  {
   "cell_type": "code",
   "execution_count": 58,
   "metadata": {},
   "outputs": [],
   "source": [
    "df3=pd.DataFrame(dataset3)"
   ]
  },
  {
   "cell_type": "code",
   "execution_count": 59,
   "metadata": {},
   "outputs": [
    {
     "data": {
      "text/html": [
       "<div>\n",
       "<style scoped>\n",
       "    .dataframe tbody tr th:only-of-type {\n",
       "        vertical-align: middle;\n",
       "    }\n",
       "\n",
       "    .dataframe tbody tr th {\n",
       "        vertical-align: top;\n",
       "    }\n",
       "\n",
       "    .dataframe thead th {\n",
       "        text-align: right;\n",
       "    }\n",
       "</style>\n",
       "<table border=\"1\" class=\"dataframe\">\n",
       "  <thead>\n",
       "    <tr style=\"text-align: right;\">\n",
       "      <th></th>\n",
       "      <th>STATE(SOUTH-SOUTH ZONE)</th>\n",
       "      <th>UNDEREMPLOYMENT</th>\n",
       "      <th>UNEMPLOYMENT</th>\n",
       "    </tr>\n",
       "  </thead>\n",
       "  <tbody>\n",
       "    <tr>\n",
       "      <th>0</th>\n",
       "      <td>AKWA-IBOM</td>\n",
       "      <td>20.1</td>\n",
       "      <td>37.7</td>\n",
       "    </tr>\n",
       "    <tr>\n",
       "      <th>1</th>\n",
       "      <td>BAYELSA</td>\n",
       "      <td>17.2</td>\n",
       "      <td>32.6</td>\n",
       "    </tr>\n",
       "    <tr>\n",
       "      <th>2</th>\n",
       "      <td>CROSS RIVER</td>\n",
       "      <td>19.9</td>\n",
       "      <td>30.6</td>\n",
       "    </tr>\n",
       "    <tr>\n",
       "      <th>3</th>\n",
       "      <td>DELTA</td>\n",
       "      <td>17.9</td>\n",
       "      <td>25.4</td>\n",
       "    </tr>\n",
       "    <tr>\n",
       "      <th>4</th>\n",
       "      <td>EDO</td>\n",
       "      <td>18.4</td>\n",
       "      <td>25.1</td>\n",
       "    </tr>\n",
       "    <tr>\n",
       "      <th>5</th>\n",
       "      <td>RIVERS</td>\n",
       "      <td>21.7</td>\n",
       "      <td>36.4</td>\n",
       "    </tr>\n",
       "  </tbody>\n",
       "</table>\n",
       "</div>"
      ],
      "text/plain": [
       "  STATE(SOUTH-SOUTH ZONE)  UNDEREMPLOYMENT  UNEMPLOYMENT\n",
       "0               AKWA-IBOM             20.1          37.7\n",
       "1                 BAYELSA             17.2          32.6\n",
       "2             CROSS RIVER             19.9          30.6\n",
       "3                   DELTA             17.9          25.4\n",
       "4                     EDO             18.4          25.1\n",
       "5                  RIVERS             21.7          36.4"
      ]
     },
     "execution_count": 59,
     "metadata": {},
     "output_type": "execute_result"
    }
   ],
   "source": [
    "df3"
   ]
  },
  {
   "cell_type": "code",
   "execution_count": 62,
   "metadata": {},
   "outputs": [
    {
     "data": {
      "image/png": "[encoded data removed]",
      "text/plain": [
       "<Figure size 864x576 with 1 Axes>"
      ]
     },
     "metadata": {
      "needs_background": "light"
     },
     "output_type": "display_data"
    }
   ],
   "source": [
    "\n",
    "x = np.arange(6)\n",
    "width = 0.25\n",
    "fig, ax = plt.subplots(figsize=(12,8))\n",
    "plt.bar(x, df3['UNDEREMPLOYMENT'], width, alpha=0.5, color='#EE3224')\n",
    "plt.bar(x+ width, df3['UNEMPLOYMENT'], width, alpha=0.5, color='#F78F1E')\n",
    "plt.ylabel('STATE(SOUTH-SOUTH ZONE)')\n",
    "plt.xticks(x+0.125, ['AKWA-IBOM', 'BAYELSA', 'CROSS RIVER', 'DELTA', 'EDO', 'RIVERS'])\n",
    "ax.set_xticklabels(df3['STATE(SOUTH-SOUTH ZONE)'])\n",
    "ax.set_title('LABOR FORCE STATISTICS FOR SOUTH-SOUTH ZONE Q3 2018')\n",
    "plt.xlim(min(x)-width, max(x)+width*4)\n",
    "plt.ylim([0, max(df3['UNDEREMPLOYMENT'] + df3['UNEMPLOYMENT'])])\n",
    "plt.legend(['UNDEREMPLOYMENT', 'UNEMPLOYMENT'], loc='upper right')\n",
    "plt.grid()\n",
    "plt.show()"
   ]
  },
  {
   "cell_type": "code",
   "execution_count": 63,
   "metadata": {},
   "outputs": [],
   "source": [
    "dataset4=pd.read_excel(r'C:\\Users\\judyh\\Downloads\\excel files\\SOUTH EAST.xlsx')"
   ]
  },
  {
   "cell_type": "code",
   "execution_count": 64,
   "metadata": {},
   "outputs": [],
   "source": [
    "df4=pd.DataFrame(dataset4)"
   ]
  },
  {
   "cell_type": "code",
   "execution_count": 65,
   "metadata": {},
   "outputs": [
    {
     "data": {
      "text/html": [
       "<div>\n",
       "<style scoped>\n",
       "    .dataframe tbody tr th:only-of-type {\n",
       "        vertical-align: middle;\n",
       "    }\n",
       "\n",
       "    .dataframe tbody tr th {\n",
       "        vertical-align: top;\n",
       "    }\n",
       "\n",
       "    .dataframe thead th {\n",
       "        text-align: right;\n",
       "    }\n",
       "</style>\n",
       "<table border=\"1\" class=\"dataframe\">\n",
       "  <thead>\n",
       "    <tr style=\"text-align: right;\">\n",
       "      <th></th>\n",
       "      <th>STATE(SOUTH-EAST ZONE)</th>\n",
       "      <th>UNDEREMPLOYMENT</th>\n",
       "      <th>UNEMPLOYMENT</th>\n",
       "    </tr>\n",
       "  </thead>\n",
       "  <tbody>\n",
       "    <tr>\n",
       "      <th>0</th>\n",
       "      <td>ABIA</td>\n",
       "      <td>16.4</td>\n",
       "      <td>31.6</td>\n",
       "    </tr>\n",
       "    <tr>\n",
       "      <th>1</th>\n",
       "      <td>ANAMBRA</td>\n",
       "      <td>17.6</td>\n",
       "      <td>17.5</td>\n",
       "    </tr>\n",
       "    <tr>\n",
       "      <th>2</th>\n",
       "      <td>EBONYI</td>\n",
       "      <td>19.7</td>\n",
       "      <td>21.1</td>\n",
       "    </tr>\n",
       "    <tr>\n",
       "      <th>3</th>\n",
       "      <td>ENUGU</td>\n",
       "      <td>17.7</td>\n",
       "      <td>18.7</td>\n",
       "    </tr>\n",
       "    <tr>\n",
       "      <th>4</th>\n",
       "      <td>IMO</td>\n",
       "      <td>15.1</td>\n",
       "      <td>28.2</td>\n",
       "    </tr>\n",
       "  </tbody>\n",
       "</table>\n",
       "</div>"
      ],
      "text/plain": [
       "  STATE(SOUTH-EAST ZONE)  UNDEREMPLOYMENT  UNEMPLOYMENT\n",
       "0                   ABIA             16.4          31.6\n",
       "1                ANAMBRA             17.6          17.5\n",
       "2                 EBONYI             19.7          21.1\n",
       "3                  ENUGU             17.7          18.7\n",
       "4                    IMO             15.1          28.2"
      ]
     },
     "execution_count": 65,
     "metadata": {},
     "output_type": "execute_result"
    }
   ],
   "source": [
    "df4"
   ]
  },
  {
   "cell_type": "code",
   "execution_count": 66,
   "metadata": {},
   "outputs": [
    {
     "data": {
      "image/png": "[encoded data removed]",
      "text/plain": [
       "<Figure size 864x576 with 1 Axes>"
      ]
     },
     "metadata": {
      "needs_background": "light"
     },
     "output_type": "display_data"
    }
   ],
   "source": [
    "\n",
    "x = np.arange(5)\n",
    "width = 0.25\n",
    "fig, ax = plt.subplots(figsize=(12,8))\n",
    "plt.bar(x, df4['UNDEREMPLOYMENT'], width, alpha=0.5, color='#EE3224')\n",
    "plt.bar(x + width, df4['UNEMPLOYMENT'], width, alpha=0.5, color='#F78F1E')\n",
    "plt.ylabel('STATE(SOUTH-EAST ZONE)')\n",
    "plt.xticks(x+0.125, ['ABIA', 'ANAMBRA', 'EBONYI', 'ENUGU', 'IMO'])\n",
    "ax.set_xticklabels(df4['STATE(SOUTH-EAST ZONE)'])\n",
    "ax.set_title('LABOR FORCE STATISTICS FOR SOUTH-EAST ZONE Q3 2018')\n",
    "plt.xlim(min(x)-width, max(x)+width*4)\n",
    "plt.ylim([0, max(df4['UNDEREMPLOYMENT'] + df4['UNEMPLOYMENT'])])\n",
    "plt.legend(['UNDEREMPLOYMENT', 'UNEMPLOYMENT'], loc='upper right')\n",
    "plt.grid()\n",
    "plt.show()"
   ]
  },
  {
   "cell_type": "code",
   "execution_count": 67,
   "metadata": {},
   "outputs": [],
   "source": [
    "dataset5=pd.read_excel(r'C:\\Users\\judyh\\Downloads\\excel files\\SOUTH WEST.xlsx')"
   ]
  },
  {
   "cell_type": "code",
   "execution_count": 68,
   "metadata": {},
   "outputs": [],
   "source": [
    "df5=pd.DataFrame(dataset5)"
   ]
  },
  {
   "cell_type": "code",
   "execution_count": 69,
   "metadata": {},
   "outputs": [
    {
     "data": {
      "text/html": [
       "<div>\n",
       "<style scoped>\n",
       "    .dataframe tbody tr th:only-of-type {\n",
       "        vertical-align: middle;\n",
       "    }\n",
       "\n",
       "    .dataframe tbody tr th {\n",
       "        vertical-align: top;\n",
       "    }\n",
       "\n",
       "    .dataframe thead th {\n",
       "        text-align: right;\n",
       "    }\n",
       "</style>\n",
       "<table border=\"1\" class=\"dataframe\">\n",
       "  <thead>\n",
       "    <tr style=\"text-align: right;\">\n",
       "      <th></th>\n",
       "      <th>STATE(SOUTH-WEST ZONE)</th>\n",
       "      <th>UNDEREMPLOYMENT</th>\n",
       "      <th>UNEMPLOYMENT</th>\n",
       "    </tr>\n",
       "  </thead>\n",
       "  <tbody>\n",
       "    <tr>\n",
       "      <th>0</th>\n",
       "      <td>EKITI</td>\n",
       "      <td>14.0</td>\n",
       "      <td>20.2</td>\n",
       "    </tr>\n",
       "    <tr>\n",
       "      <th>1</th>\n",
       "      <td>LAGOS</td>\n",
       "      <td>12.4</td>\n",
       "      <td>14.6</td>\n",
       "    </tr>\n",
       "    <tr>\n",
       "      <th>2</th>\n",
       "      <td>OGUN</td>\n",
       "      <td>10.9</td>\n",
       "      <td>16.4</td>\n",
       "    </tr>\n",
       "    <tr>\n",
       "      <th>3</th>\n",
       "      <td>ONDO</td>\n",
       "      <td>17.5</td>\n",
       "      <td>14.2</td>\n",
       "    </tr>\n",
       "    <tr>\n",
       "      <th>4</th>\n",
       "      <td>OSUN</td>\n",
       "      <td>14.6</td>\n",
       "      <td>10.1</td>\n",
       "    </tr>\n",
       "    <tr>\n",
       "      <th>5</th>\n",
       "      <td>OYO</td>\n",
       "      <td>14.3</td>\n",
       "      <td>10.3</td>\n",
       "    </tr>\n",
       "  </tbody>\n",
       "</table>\n",
       "</div>"
      ],
      "text/plain": [
       "  STATE(SOUTH-WEST ZONE)  UNDEREMPLOYMENT  UNEMPLOYMENT\n",
       "0                  EKITI             14.0          20.2\n",
       "1                  LAGOS             12.4          14.6\n",
       "2                   OGUN             10.9          16.4\n",
       "3                   ONDO             17.5          14.2\n",
       "4                   OSUN             14.6          10.1\n",
       "5                    OYO             14.3          10.3"
      ]
     },
     "execution_count": 69,
     "metadata": {},
     "output_type": "execute_result"
    }
   ],
   "source": [
    "df5"
   ]
  },
  {
   "cell_type": "code",
   "execution_count": 70,
   "metadata": {},
   "outputs": [
    {
     "data": {
      "image/png": "[encoded data removed]",
      "text/plain": [
       "<Figure size 864x576 with 1 Axes>"
      ]
     },
     "metadata": {
      "needs_background": "light"
     },
     "output_type": "display_data"
    }
   ],
   "source": [
    "x = np.arange(6)\n",
    "width = 0.25\n",
    "fig, ax = plt.subplots(figsize=(12,8))\n",
    "plt.bar(x, df5['UNDEREMPLOYMENT'], width, alpha=0.5, color='#EE3224')\n",
    "plt.bar(x + width, df5['UNEMPLOYMENT'], width, alpha=0.5, color='#F78F1E')\n",
    "plt.ylabel('STATE(SOUTH-WEST ZONE)')\n",
    "plt.xticks(x+0.125, ['EKITI', 'LAGOS', 'OGUN', 'ONDO', 'OSUN', 'OYO'])\n",
    "ax.set_xticklabels(df5['STATE(SOUTH-WEST ZONE)'])\n",
    "ax.set_title('LABOR FORCE STATISTICS FOR SOUTH-WEST ZONE Q3 2018')\n",
    "plt.xlim(min(x)-width, max(x)+width*4)\n",
    "plt.ylim([0, max(df5['UNDEREMPLOYMENT'] + df5['UNEMPLOYMENT'])])\n",
    "plt.legend(['UNDEREMPLOYMENT', 'UNEMPLOYMENT'], loc='upper right')\n",
    "plt.grid()\n",
    "plt.show()"
   ]
  },
  {
   "cell_type": "code",
   "execution_count": null,
   "metadata": {},
   "outputs": [],
   "source": []
  }
 ],
 "metadata": {
  "kernelspec": {
   "display_name": "Python 3",
   "language": "python",
   "name": "python3"
  },
  "language_info": {
   "codemirror_mode": {
    "name": "ipython",
    "version": 3
   },
   "file_extension": ".py",
   "mimetype": "text/x-python",
   "name": "python",
   "nbconvert_exporter": "python",
   "pygments_lexer": "ipython3",
   "version": "3.8.5"
  }
 },
 "nbformat": 4,
 "nbformat_minor": 4
}
